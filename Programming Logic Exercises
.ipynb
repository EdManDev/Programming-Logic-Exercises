{
  "cells": [
    {
      "cell_type": "markdown",
      "metadata": {
        "id": "header_title"
      },
      "source": [
        "# Programming Logic Exercises in Python\n",
        "\n",
        "This notebook contains solutions to 36 programming logic exercises covering conditional statements, loops, functions, and basic data structures."
      ]
    },
    {
      "cell_type": "markdown",
      "metadata": {
        "id": "exercise_1_header"
      },
      "source": [
        "## Exercise 1: Determine if a number is negative"
      ]
    },
    {
      "cell_type": "code",
      "execution_count": null,
      "metadata": {
        "id": "exercise_1_code"
      },
      "outputs": [],
      "source": [
        "def is_negative(number):\n",
        "    return number < 0\n",
        "\n",
        "# Test\n",
        "test_number = float(input(\"Enter a number: \"))\n",
        "if is_negative(test_number):\n",
        "    print(f\"{test_number} is negative\")\n",
        "else:\n",
        "    print(f\"{test_number} is not negative\")"
      ]
    },
    {
      "cell_type": "markdown",
      "metadata": {
        "id": "exercise_2_header"
      },
      "source": [
        "## Exercise 2: Determine if a number is greater than 35"
      ]
    },
    {
      "cell_type": "code",
      "execution_count": null,
      "metadata": {
        "id": "exercise_2_code"
      },
      "outputs": [],
      "source": [
        "def is_greater_than_35(number):\n",
        "    return number > 35\n",
        "\n",
        "# Test\n",
        "test_number = float(input(\"Enter a number: \"))\n",
        "if is_greater_than_35(test_number):\n",
        "    print(f\"{test_number} is greater than 35\")\n",
        "else:\n",
        "    print(f\"{test_number} is not greater than 35\")"
      ]
    },
    {
      "cell_type": "markdown",
      "metadata": {
        "id": "exercise_3_header"
      },
      "source": [
        "## Exercise 3: Check if user is of legal age"
      ]
    },
    {
      "cell_type": "code",
      "execution_count": null,
      "metadata": {
        "id": "exercise_3_code"
      },
      "outputs": [],
      "source": [
        "age = int(input(\"Enter your age: \"))\n",
        "\n",
        "if age >= 18:\n",
        "    print(\"You are of legal age\")\n",
        "else:\n",
        "    print(\"You are not of legal age\")"
      ]
    },
    {
      "cell_type": "markdown",
      "metadata": {
        "id": "exercise_4_header"
      },
      "source": [
        "## Exercise 4: Division with zero check"
      ]
    },
    {
      "cell_type": "code",
      "execution_count": null,
      "metadata": {
        "id": "exercise_4_code"
      },
      "outputs": [],
      "source": [
        "num1 = float(input(\"Enter the first number (dividend): \"))\n",
        "num2 = float(input(\"Enter the second number (divisor): \"))\n",
        "\n",
        "if num2 == 0:\n",
        "    print(\"Error: Division by zero is not allowed\")\n",
        "else:\n",
        "    result = num1 / num2\n",
        "    print(f\"The division of {num1} by {num2} is: {result}\")"
      ]
    },
    {
      "cell_type": "markdown",
      "metadata": {
        "id": "exercise_5_header"
      },
      "source": [
        "## Exercise 5: Tax payment eligibility"
      ]
    },
    {
      "cell_type": "code",
      "execution_count": null,
      "metadata": {
        "id": "exercise_5_code"
      },
      "outputs": [],
      "source": [
        "age = int(input(\"Enter your age: \"))\n",
        "monthly_income = float(input(\"Enter your monthly income (RD$): \"))\n",
        "\n",
        "if age > 16 and monthly_income >= 50000:\n",
        "    print(\"You have to pay taxes\")\n",
        "else:\n",
        "    print(\"You do not have to pay taxes\")"
      ]
    },
    {
      "cell_type": "markdown",
      "metadata": {
        "id": "exercise_6_header"
      },
      "source": [
        "## Exercise 6: Group assignment based on gender and name"
      ]
    },
    {
      "cell_type": "code",
      "execution_count": null,
      "metadata": {
        "id": "exercise_6_code"
      },
      "outputs": [],
      "source": [
        "name = input(\"Enter your name: \").strip().upper()\n",
        "gender = input(\"Enter your gender (M/F): \").strip().upper()\n",
        "\n",
        "first_letter = name[0] if name else ''\n",
        "\n",
        "# Group A: Women with name before M, Men with name after N\n",
        "# Group B: the rest\n",
        "\n",
        "if (gender == 'F' and first_letter < 'M') or (gender == 'M' and first_letter > 'N'):\n",
        "    print(\"You belong to Group A\")\n",
        "else:\n",
        "    print(\"You belong to Group B\")"
      ]
    },
    {
      "cell_type": "markdown",
      "metadata": {
        "id": "exercise_7_header"
      },
      "source": [
        "## Exercise 7: Check if positive and less than 100"
      ]
    },
    {
      "cell_type": "code",
      "execution_count": null,
      "metadata": {
        "id": "exercise_7_code"
      },
      "outputs": [],
      "source": [
        "number = float(input(\"Enter a number: \"))\n",
        "\n",
        "if number > 0 and number < 100:\n",
        "    print(f\"{number} is positive and less than 100\")\n",
        "else:\n",
        "    print(f\"{number} is not positive and less than 100\")"
      ]
    },
    {
      "cell_type": "markdown",
      "metadata": {
        "id": "exercise_8_header"
      },
      "source": [
        "## Exercise 8: Check if number belongs to interval [-3,27]"
      ]
    },
    {
      "cell_type": "code",
      "execution_count": null,
      "metadata": {
        "id": "exercise_8_code"
      },
      "outputs": [],
      "source": [
        "number = float(input(\"Enter a number: \"))\n",
        "\n",
        "if -3 <= number <= 27:\n",
        "    print(f\"{number} belongs to the interval [-3, 27]\")\n",
        "else:\n",
        "    print(f\"{number} does not belong to the interval [-3, 27]\")"
      ]
    },
    {
      "cell_type": "markdown",
      "metadata": {
        "id": "exercise_9_header"
      },
      "source": [
        "## Exercise 9: Find the larger of two numbers"
      ]
    },
    {
      "cell_type": "code",
      "execution_count": null,
      "metadata": {
        "id": "exercise_9_code"
      },
      "outputs": [],
      "source": [
        "num1 = float(input(\"Enter the first number: \"))\n",
        "num2 = float(input(\"Enter the second number: \"))\n",
        "\n",
        "if num1 > num2:\n",
        "    print(f\"The larger number is: {num1}\")\n",
        "elif num2 > num1:\n",
        "    print(f\"The larger number is: {num2}\")\n",
        "else:\n",
        "    print(\"Both numbers are equal\")"
      ]
    },
    {
      "cell_type": "markdown",
      "metadata": {
        "id": "exercise_10_header"
      },
      "source": [
        "## Exercise 10: Check if number does NOT belong to interval [25,50]"
      ]
    },
    {
      "cell_type": "code",
      "execution_count": null,
      "metadata": {
        "id": "exercise_10_code"
      },
      "outputs": [],
      "source": [
        "number = float(input(\"Enter a number: \"))\n",
        "\n",
        "if not (25 <= number <= 50):\n",
        "    print(f\"{number} does not belong to the interval [25, 50]\")\n",
        "else:\n",
        "    print(f\"{number} belongs to the interval [25, 50]\")"
      ]
    },
    {
      "cell_type": "markdown",
      "metadata": {
        "id": "exercise_11_header"
      },
      "source": [
        "## Exercise 11: Check if modulus of number is less than 15 (without abs function)"
      ]
    },
    {
      "cell_type": "code",
      "execution_count": null,
      "metadata": {
        "id": "exercise_11_code"
      },
      "outputs": [],
      "source": [
        "number = float(input(\"Enter a number: \"))\n",
        "\n",
        "# Calculate absolute value without using abs()\n",
        "if number >= 0:\n",
        "    modulus = number\n",
        "else:\n",
        "    modulus = -number\n",
        "\n",
        "if modulus < 15:\n",
        "    print(f\"The modulus of {number} is less than 15\")\n",
        "else:\n",
        "    print(f\"The modulus of {number} is not less than 15\")"
      ]
    },
    {
      "cell_type": "markdown",
      "metadata": {
        "id": "exercise_12_header"
      },
      "source": [
        "## Exercise 12: Check if integer is odd"
      ]
    },
    {
      "cell_type": "code",
      "execution_count": null,
      "metadata": {
        "id": "exercise_12_code"
      },
      "outputs": [],
      "source": [
        "number = int(input(\"Enter an integer: \"))\n",
        "\n",
        "if number % 2 != 0:\n",
        "    print(f\"{number} is odd\")\n",
        "else:\n",
        "    print(f\"{number} is even\")"
      ]
    },
    {
      "cell_type": "markdown",
      "metadata": {
        "id": "exercise_13_header"
      },
      "source": [
        "## Exercise 13: Square if even, cube if odd"
      ]
    },
    {
      "cell_type": "code",
      "execution_count": null,
      "metadata": {
        "id": "exercise_13_code"
      },
      "outputs": [],
      "source": [
        "number = int(input(\"Enter a number: \"))\n",
        "\n",
        "if number % 2 == 0:\n",
        "    result = number ** 2\n",
        "    print(f\"{number} is even. {number}² = {result}\")\n",
        "else:\n",
        "    result = number ** 3\n",
        "    print(f\"{number} is odd. {number}³ = {result}\")"
      ]
    },
    {
      "cell_type": "markdown",
      "metadata": {
        "id": "exercise_14_header"
      },
      "source": [
        "## Exercise 14: Maximum of 2 numbers"
      ]
    },
    {
      "cell_type": "code",
      "execution_count": null,
      "metadata": {
        "id": "exercise_14_code"
      },
      "outputs": [],
      "source": [
        "def max_of_two(a, b):\n",
        "    if a > b:\n",
        "        return a\n",
        "    else:\n",
        "        return b\n",
        "\n",
        "# Test\n",
        "num1 = float(input(\"Enter first number: \"))\n",
        "num2 = float(input(\"Enter second number: \"))\n",
        "maximum = max_of_two(num1, num2)\n",
        "print(f\"The maximum of {num1} and {num2} is: {maximum}\")"
      ]
    },
    {
      "cell_type": "markdown",
      "metadata": {
        "id": "exercise_15_header"
      },
      "source": [
        "## Exercise 15: Maximum of 3 numbers"
      ]
    },
    {
      "cell_type": "code",
      "execution_count": null,
      "metadata": {
        "id": "exercise_15_code"
      },
      "outputs": [],
      "source": [
        "def max_of_three(a, b, c):\n",
        "    if a >= b and a >= c:\n",
        "        return a\n",
        "    elif b >= a and b >= c:\n",
        "        return b\n",
        "    else:\n",
        "        return c\n",
        "\n",
        "# Test\n",
        "num1 = float(input(\"Enter first number: \"))\n",
        "num2 = float(input(\"Enter second number: \"))\n",
        "num3 = float(input(\"Enter third number: \"))\n",
        "maximum = max_of_three(num1, num2, num3)\n",
        "print(f\"The maximum of {num1}, {num2}, and {num3} is: {maximum}\")"
      ]
    },
    {
      "cell_type": "markdown",
      "metadata": {
        "id": "exercise_16_header"
      },
      "source": [
        "## Exercise 16: Check if one number is multiple of another"
      ]
    },
    {
      "cell_type": "code",
      "execution_count": null,
      "metadata": {
        "id": "exercise_16_code"
      },
      "outputs": [],
      "source": [
        "num1 = float(input(\"Enter the larger number: \"))\n",
        "num2 = float(input(\"Enter the smaller number: \"))\n",
        "\n",
        "if num2 != 0 and num1 % num2 == 0:\n",
        "    print(f\"{num1} is a multiple of {num2}\")\n",
        "else:\n",
        "    print(f\"{num1} is not a multiple of {num2}\")"
      ]
    },
    {
      "cell_type": "markdown",
      "metadata": {
        "id": "exercise_17_header"
      },
      "source": [
        "## Exercise 17: Water bill calculation"
      ]
    },
    {
      "cell_type": "code",
      "execution_count": null,
      "metadata": {
        "id": "exercise_17_code"
      },
      "outputs": [],
      "source": [
        "liters = float(input(\"Enter the number of liters consumed: \"))\n",
        "\n",
        "# Fixed monthly fee\n",
        "bill = 500.00\n",
        "\n",
        "if liters > 50:\n",
        "    # Between 50 and 200 liters: RD$1.00 per liter\n",
        "    if liters <= 200:\n",
        "        bill += (liters - 50) * 1.00\n",
        "    else:\n",
        "        # First 150 liters (50-200) at RD$1.00\n",
        "        bill += 150 * 1.00\n",
        "        # Remaining liters at RD$3.00\n",
        "        bill += (liters - 200) * 3.00\n",
        "\n",
        "print(f\"Water bill for {liters} liters: RD${bill:.2f}\")"
      ]
    },
    {
      "cell_type": "markdown",
      "metadata": {
        "id": "exercise_18_header"
      },
      "source": [
        "## Exercise 18: Check if number is even"
      ]
    },
    {
      "cell_type": "code",
      "execution_count": null,
      "metadata": {
        "id": "exercise_18_code"
      },
      "outputs": [],
      "source": [
        "number = int(input(\"Enter a number: \"))\n",
        "\n",
        "if number % 2 == 0:\n",
        "    print(f\"{number} is even\")\n",
        "else:\n",
        "    print(f\"{number} is odd\")"
      ]
    },
    {
      "cell_type": "markdown",
      "metadata": {
        "id": "exercise_19_header"
      },
      "source": [
        "## Exercise 19: Find the smallest of three numbers"
      ]
    },
    {
      "cell_type": "code",
      "execution_count": null,
      "metadata": {
        "id": "exercise_19_code"
      },
      "outputs": [],
      "source": [
        "num1 = float(input(\"Enter first number: \"))\n",
        "num2 = float(input(\"Enter second number: \"))\n",
        "num3 = float(input(\"Enter third number: \"))\n",
        "\n",
        "if num1 <= num2 and num1 <= num3:\n",
        "    smallest = num1\n",
        "elif num2 <= num1 and num2 <= num3:\n",
        "    smallest = num2\n",
        "else:\n",
        "    smallest = num3\n",
        "\n",
        "print(f\"The smallest number is: {smallest}\")"
      ]
    },
    {
      "cell_type": "markdown",
      "metadata": {
        "id": "exercise_20_header"
      },
      "source": [
        "## Exercise 20: Read integers until 0"
      ]
    },
    {
      "cell_type": "code",
      "execution_count": null,
      "metadata": {
        "id": "exercise_20_code"
      },
      "outputs": [],
      "source": [
        "print(\"Enter integers (0 to stop):\")\n",
        "numbers = []\n",
        "\n",
        "while True:\n",
        "    number = int(input(\"Enter a number: \"))\n",
        "    if number == 0:\n",
        "        break\n",
        "    numbers.append(number)\n",
        "\n",
        "print(f\"Numbers entered: {numbers}\")\n",
        "print(f\"Total numbers entered: {len(numbers)}\")"
      ]
    },
    {
      "cell_type": "markdown",
      "metadata": {
        "id": "exercise_21_header"
      },
      "source": [
        "## Exercise 21: Read exactly 8 numbers and calculate sum"
      ]
    },
    {
      "cell_type": "code",
      "execution_count": null,
      "metadata": {
        "id": "exercise_21_code"
      },
      "outputs": [],
      "source": [
        "print(\"Enter exactly 8 numbers:\")\n",
        "total_sum = 0\n",
        "numbers = []\n",
        "\n",
        "for i in range(8):\n",
        "    number = float(input(f\"Enter number {i+1}: \"))\n",
        "    numbers.append(number)\n",
        "    total_sum += number\n",
        "\n",
        "print(f\"Numbers entered: {numbers}\")\n",
        "print(f\"Sum of all numbers: {total_sum}\")"
      ]
    },
    {
      "cell_type": "markdown",
      "metadata": {
        "id": "exercise_22_header"
      },
      "source": [
        "## Exercise 22: Read numbers until 0 and calculate sum"
      ]
    },
    {
      "cell_type": "code",
      "execution_count": null,
      "metadata": {
        "id": "exercise_22_code"
      },
      "outputs": [],
      "source": [
        "print(\"Enter numbers (0 to stop and calculate sum):\")\n",
        "total_sum = 0\n",
        "count = 0\n",
        "\n",
        "while True:\n",
        "    number = float(input(\"Enter a number: \"))\n",
        "    if number == 0:\n",
        "        break\n",
        "    total_sum += number\n",
        "    count += 1\n",
        "\n",
        "print(f\"Sum of {count} numbers: {total_sum}\")"
      ]
    },
    {
      "cell_type": "markdown",
      "metadata": {
        "id": "exercise_23_header"
      },
      "source": [
        "## Exercise 23: Triangle type classification"
      ]
    },
    {
      "cell_type": "code",
      "execution_count": null,
      "metadata": {
        "id": "exercise_23_code"
      },
      "outputs": [],
      "source": [
        "side1 = float(input(\"Enter the first side: \"))\n",
        "side2 = float(input(\"Enter the second side: \"))\n",
        "side3 = float(input(\"Enter the third side: \"))\n",
        "\n",
        "# Check if it forms a valid triangle\n",
        "if (side1 + side2 > side3) and (side1 + side3 > side2) and (side2 + side3 > side1):\n",
        "    if side1 == side2 == side3:\n",
        "        print(\"Equilateral triangle (all sides equal)\")\n",
        "    elif side1 == side2 or side1 == side3 or side2 == side3:\n",
        "        print(\"Isosceles triangle (two sides equal)\")\n",
        "    else:\n",
        "        print(\"Scalene triangle (all sides different)\")\n",
        "else:\n",
        "    print(\"These sides do not form a valid triangle\")"
      ]
    },
    {
      "cell_type": "markdown",
      "metadata": {
        "id": "exercise_24_header"
      },
      "source": [
        "## Exercise 24: Multiples of 3 from 1 to 3000"
      ]
    },
    {
      "cell_type": "code",
      "execution_count": null,
      "metadata": {
        "id": "exercise_24_code"
      },
      "outputs": [],
      "source": [
        "print(\"Multiples of 3 from 1 to 3000:\")\n",
        "multiples = []\n",
        "\n",
        "for i in range(3, 3001, 3):  # Start at 3, go to 3000, step by 3\n",
        "    multiples.append(i)\n",
        "\n",
        "print(f\"First 10 multiples: {multiples[:10]}\")\n",
        "print(f\"Last 10 multiples: {multiples[-10:]}\")\n",
        "print(f\"Total count: {len(multiples)}\")"
      ]
    },
    {
      "cell_type": "markdown",
      "metadata": {
        "id": "exercise_25_header"
      },
      "source": [
        "## Exercise 25: Calculate arithmetic mean"
      ]
    },
    {
      "cell_type": "code",
      "execution_count": null,
      "metadata": {
        "id": "exercise_25_code"
      },
      "outputs": [],
      "source": [
        "print(\"Enter numbers (0 to stop and calculate mean):\")\n",
        "total_sum = 0\n",
        "count = 0\n",
        "\n",
        "while True:\n",
        "    number = float(input(\"Enter a number: \"))\n",
        "    if number == 0:\n",
        "        break\n",
        "    total_sum += number\n",
        "    count += 1\n",
        "\n",
        "if count > 0:\n",
        "    mean = total_sum / count\n",
        "    print(f\"Arithmetic mean of {count} numbers: {mean:.2f}\")\n",
        "else:\n",
        "    print(\"No numbers were entered\")"
      ]
    },
    {
      "cell_type": "markdown",
      "metadata": {
        "id": "exercise_26_header"
      },
      "source": [
        "## Exercise 26: Find the middle number (median)"
      ]
    },
    {
      "cell_type": "code",
      "execution_count": null,
      "metadata": {
        "id": "exercise_26_code"
      },
      "outputs": [],
      "source": [
        "print(\"Enter numbers (0 to stop and find median):\")\n",
        "numbers = []\n",
        "\n",
        "while True:\n",
        "    number = float(input(\"Enter a number: \"))\n",
        "    if number == 0:\n",
        "        break\n",
        "    numbers.append(number)\n",
        "\n",
        "if len(numbers) > 0:\n",
        "    numbers.sort()\n",
        "    n = len(numbers)\n",
        "    \n",
        "    if n % 2 == 1:\n",
        "        median = numbers[n // 2]\n",
        "    else:\n",
        "        median = (numbers[n // 2 - 1] + numbers[n // 2]) / 2\n",
        "    \n",
        "    print(f\"Sorted numbers: {numbers}\")\n",
        "    print(f\"Median (middle number): {median}\")\n",
        "else:\n",
        "    print(\"No numbers were entered\")"
      ]
    },
    {
      "cell_type": "markdown",
      "metadata": {
        "id": "exercise_27_header"
      },
      "source": [
        "## Exercise 27: Invoice calculation"
      ]
    },
    {
      "cell_type": "code",
      "execution_count": null,
      "metadata": {
        "id": "exercise_27_code"
      },
      "outputs": [],
      "source": [
        "total_invoice = 0\n",
        "\n",
        "print(\"Invoice Calculator\")\n",
        "print(\"Enter quantity and price for each item (0 quantity to finish)\")\n",
        "\n",
        "while True:\n",
        "    quantity = int(input(\"Enter the quantity sold: \"))\n",
        "    if quantity == 0:\n",
        "        break\n",
        "    \n",
        "    price = float(input(\"Enter the price: \"))\n",
        "    subtotal = quantity * price\n",
        "    total_invoice += subtotal\n",
        "    \n",
        "    print(f\"Subtotal: {quantity} × {price} = {subtotal}\")\n",
        "\n",
        "print(f\"\\nTotal invoice: {total_invoice:.2f}\")"
      ]
    },
    {
      "cell_type": "markdown",
      "metadata": {
        "id": "exercise_28_header"
      },
      "source": [
        "## Exercise 28: Weekly salary calculation"
      ]
    },
    {
      "cell_type": "code",
      "execution_count": null,
      "metadata": {
        "id": "exercise_28_code"
      },
      "outputs": [],
      "source": [
        "def calculate_salary(hours):\n",
        "    regular_rate = 150  # RD$ per hour\n",
        "    overtime_rate = 220  # RD$ per hour\n",
        "    regular_hours_limit = 35\n",
        "    \n",
        "    if hours <= regular_hours_limit:\n",
        "        salary = hours * regular_rate\n",
        "    else:\n",
        "        regular_pay = regular_hours_limit * regular_rate\n",
        "        overtime_hours = hours - regular_hours_limit\n",
        "        overtime_pay = overtime_hours * overtime_rate\n",
        "        salary = regular_pay + overtime_pay\n",
        "    \n",
        "    return salary\n",
        "\n",
        "while True:\n",
        "    hours = float(input(\"Enter worker's hours: \"))\n",
        "    salary = calculate_salary(hours)\n",
        "    \n",
        "    if hours <= 35:\n",
        "        print(f\"Salary for {hours} hours: RD${salary:.2f}\")\n",
        "    else:\n",
        "        regular_hours = 35\n",
        "        overtime_hours = hours - 35\n",
        "        print(f\"Regular hours: {regular_hours} × RD$150 = RD${regular_hours * 150}\")\n",
        "        print(f\"Overtime hours: {overtime_hours} × RD$220 = RD${overtime_hours * 220}\")\n",
        "        print(f\"Total salary: RD${salary:.2f}\")\n",
        "    \n",
        "    continue_calc = input(\"Calculate another salary? (y/n): \").lower()\n",
        "    if continue_calc != 'y':\n",
        "        break"
      ]
    },
    {
      "cell_type": "markdown",
      "metadata": {
        "id": "exercise_29_header"
      },
      "source": [
        "## Exercise 29: Read integers until 0 (Python version)"
      ]
    },
    {
      "cell_type": "code",
      "execution_count": null,
      "metadata": {
        "id": "exercise_29_code"
      },
      "outputs": [],
      "source": [
        "print(\"Enter integers (0 to stop):\")\n",
        "integers = []\n",
        "\n",
        "while True:\n",
        "    number = int(input(\"Enter an integer: \"))\n",
        "    if number == 0:\n",
        "        break\n",
        "    integers.append(number)\n",
        "\n",
        "print(f\"Integers entered: {integers}\")\n",
        "print(f\"Count: {len(integers)}\")\n",
        "if integers:\n",
        "    print(f\"Sum: {sum(integers)}\")\n",
        "    print(f\"Average: {sum(integers)/len(integers):.2f}\")"
      ]
    },
    {
      "cell_type": "markdown",
      "metadata": {
        "id": "exercise_30_31_header"
      },
      "source": [
        "## Exercise 30-31: Vehicle fuel calculation"
      ]
    },
    {
      "cell_type": "code",
      "execution_count": null,
      "metadata": {
        "id": "exercise_30_31_code"
      },
      "outputs": [],
      "source": [
        "# Vehicle fuel needs calculation\n",
        "def calculate_fuel_needs():\n",
        "    num_vehicles = int(input(\"Enter the number of vehicles: \"))\n",
        "    total_fuel_needed = 0\n",
        "    \n",
        "    for i in range(num_vehicles):\n",
        "        print(f\"\\nVehicle {i+1}:\")\n",
        "        tank_capacity = float(input(f\"Enter tank capacity for vehicle {i+1} (liters): \"))\n",
        "        current_fuel = float(input(f\"Enter current fuel level for vehicle {i+1} (liters): \"))\n",
        "        \n",
        "        fuel_needed = tank_capacity - current_fuel\n",
        "        if fuel_needed < 0:\n",
        "            fuel_needed = 0\n",
        "        \n",
        "        print(f\"Fuel needed for vehicle {i+1}: {fuel_needed} liters\")\n",
        "        total_fuel_needed += fuel_needed\n",
        "    \n",
        "    print(f\"\\nTotal fuel needed for all vehicles: {total_fuel_needed} liters\")\n",
        "    return total_fuel_needed\n",
        "\n",
        "# Run the calculation\n",
        "calculate_fuel_needs()"
      ]
    },
    {
      "cell_type": "markdown",
      "metadata": {
        "id": "exercise_32_33_header"
      },
      "source": [
        "## Exercise 32-33: Cylinder volume calculation"
      ]
    },
    {
      "cell_type": "code",
      "execution_count": null,
      "metadata": {
        "id": "exercise_32_33_code"
      },
      "outputs": [],
      "source": [
        "import math\n",
        "\n",
        "def calculate_cylinder_volume_radius():\n",
        "    \"\"\"Calculate volume using radius and height\"\"\"\n",
        "    radius = float(input(\"Enter the radius: \"))\n",
        "    height = float(input(\"Enter the height: \"))\n",
        "    \n",
        "    volume = math.pi * (radius ** 2) * height\n",
        "    print(f\"Volume = π × r² × h = π × {radius}² × {height} = {volume:.2f}\")\n",
        "    return volume\n",
        "\n",
        "def calculate_cylinder_volume_diameter():\n",
        "    \"\"\"Calculate volume using diameter and height\"\"\"\n",
        "    diameter = float(input(\"Enter the diameter: \"))\n",
        "    height = float(input(\"Enter the height: \"))\n",
        "    \n",
        "    # Method 1: V = π × (D/2)² × H\n",
        "    volume1 = math.pi * ((diameter / 2) ** 2) * height\n",
        "    \n",
        "    # Method 2: V = π × (D²/4) × H\n",
        "    volume2 = math.pi * ((diameter ** 2) / 4) * height\n",
        "    \n",
        "    print(f\"Method 1: V = π × (D/2)² × H = π × ({diameter}/2)² × {height} = {volume1:.2f}\")\n",
        "    print(f\"Method 2: V = π × (D²/4) × H = π × ({diameter}²/4) × {height} = {volume2:.2f}\")\n",
        "    print(f\"Both methods give the same result: {volume1:.2f}\")\n",
        "    return volume1\n",
        "\n",
        "print(\"Cylinder Volume Calculator\")\n",
        "print(\"1. Using radius\")\n",
        "print(\"2. Using diameter\")\n",
        "choice = input(\"Choose method (1 or 2): \")\n",
        "\n",
        "if choice == '1':\n",
        "    calculate_cylinder_volume_radius()\n",
        "elif choice == '2':\n",
        "    calculate_cylinder_volume_diameter()\n",
        "else:\n",
        "    print(\"Invalid choice\")"
      ]
    },
    {
      "cell_type": "markdown",
      "metadata": {
        "id": "exercise_34_header"
      },
      "source": [
        "## Exercise 34: Average price from three establishments"
      ]
    },
    {
      "cell_type": "code",
      "execution_count": null,
      "metadata": {
        "id": "exercise_34_code"
      },
      "outputs": [],
      "source": [
        "print(\"Calculate average price from three establishments\")\n",
        "\n",
        "price1 = float(input(\"Enter price from establishment 1: \"))\n",
        "price2 = float(input(\"Enter price from establishment 2: \"))\n",
        "price3 = float(input(\"Enter price from establishment 3: \"))\n",
        "\n",
        "average_price = (price1 + price2 + price3) / 3\n",
        "\n",
        "print(f\"\\nPrices entered:\")\n",
        "print(f\"Establishment 1: {price1}\")\n",
        "print(f\"Establishment 2: {price2}\")\n",
        "print(f\"Establishment 3: {price3}\")\n",
        "print(f\"\\nAverage price: {average_price:.2f}\")"
      ]
    },
    {
      "cell_type": "markdown",
      "metadata": {
        "id": "exercise_35_header"
      },
      "source": [
        "## Exercise 35: Fill list with 100 numeric values"
      ]
    },
    {
      "cell_type": "code",
      "execution_count": null,
      "metadata": {
        "id": "exercise_35_code"
      },
      "outputs": [],
      "source": [
        "import random\n",
        "\n",
        "# Method 1: Manual input (commented out for practicality)\n",
        "# numeric_list = []\n",
        "# for i in range(100):\n",
        "#     value = float(input(f\"Enter value {i+1}: \"))\n",
        "#     numeric_list.append(value)\n",
        "\n",
        "# Method 2: Generate random values for demonstration\n",
        "numeric_list = []\n",
        "for i in range(100):\n",
        "    value = random.randint(1, 1000)  # Random integers between 1 and 1000\n",
        "    numeric_list.append(value)\n",
        "\n",
        "print(f\"List with 100 numeric values created:\")\n",
        "print(f\"First 10 values: {numeric_list[:10]}\")\n",
        "print(f\"Last 10 values: {numeric_list[-10:]}\")\n",
        "print(f\"Length: {len(numeric_list)}\")\n",
        "print(f\"Sum: {sum(numeric_list)}\")\n",
        "print(f\"Average: {sum(numeric_list)/len(numeric_list):.2f}\")\n",
        "print(f\"Min: {min(numeric_list)}\")\n",
        "print(f\"Max: {max(numeric_list)}\")"
      ]
    },
    {
      "cell_type": "markdown",
      "metadata": {
        "id": "exercise_36_header"
      },
      "source": [
        "## Exercise 36: Tuple with months and user input validation"
      ]
    },
    {
      "cell_type": "code",
      "execution_count": null,
      "metadata": {
        "id": "exercise_36_code"
      },
      "outputs": [],
      "source": [
        "# Create tuple with months of the year\n",
        "months = (\"January\", \"February\", \"March\", \"April\", \"May\", \"June\",\n",
        "          \"July\", \"August\", \"September\", \"October\", \"November\", \"December\")\n",
        "\n",
        "print(f\"Months tuple created with {len(months)} months\")\n",
        "print(f\"Months: {months}\")\n",
        "\n",
        "# Get user input\n",
        "try:\n",
        "    number = int(input(f\"\\nEnter a number between 1 and {len(months)}: \"))\n",
        "    \n",
        "    if 1 <= number <= len(months):\n",
        "        print(f\"Month {number}: {months[number - 1]}\")\n",
        "    else:\n",
        "        print(f\"Error: Number must be between 1 and {len(months)}\")\n",
        "        \n",
        "except ValueError:\n",
        "    print(\"Error: Please enter a valid integer\")"
      ]
    },
    {
      "cell_type": "markdown",
      "metadata": {
        "id": "summary_header"
      },
      "source": [
        "## Summary\n",
        "\n",
        "This notebook contains 36 programming logic exercises covering:\n",
        "\n",
        "- **Conditional statements**: if/else logic for decision making\n",
        "- **Loops**: while and for loops for repetitive tasks\n",
        "- **Functions**: reusable code blocks\n",
        "- **Data structures**: lists and tuples\n",
        "- **Mathematical operations**: calculations and formulas\n",
        "- **Input validation**: error handling and user input validation\n",
        "- **String operations**: text processing\n",
        "- **File operations**: basic data processing concepts\n",
        "\n",
        "Each exercise demonstrates fundamental programming concepts that are essential for logical thinking and problem-solving in Python."
      ]
    }
  ],
  "metadata": {
    "colab": {
      "authorship_tag": "ABX9TyProgrammingLogicExercises2025",
      "provenance": []
    },
    "kernelspec": {
      "display_name": "base",
      "language": "python",
      "name": "python3"
    },
    "language_info": {
      "name": "python",
      "version": "3.13.5"
    }
  },
  "nbformat": 4,
  "nbformat_minor": 0
}
